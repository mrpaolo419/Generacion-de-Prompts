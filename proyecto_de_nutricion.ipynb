{
  "cells": [
    {
      "cell_type": "markdown",
      "metadata": {
        "id": "view-in-github",
        "colab_type": "text"
      },
      "source": [
        "<a href=\"https://colab.research.google.com/github/mrpaolo419/Generacion-de-Prompts/blob/main/proyecto_de_nutricion.ipynb\" target=\"_parent\"><img src=\"https://colab.research.google.com/assets/colab-badge.svg\" alt=\"Open In Colab\"/></a>"
      ]
    },
    {
      "cell_type": "code",
      "execution_count": null,
      "metadata": {
        "colab": {
          "base_uri": "https://localhost:8080/"
        },
        "id": "_dvtXXS66gJQ",
        "outputId": "a567f696-f7ce-4c79-be7a-27001d963d1d"
      },
      "outputs": [
        {
          "output_type": "stream",
          "name": "stdout",
          "text": [
            "Collecting openai==0.28\n",
            "  Downloading openai-0.28.0-py3-none-any.whl.metadata (13 kB)\n",
            "Requirement already satisfied: requests>=2.20 in /usr/local/lib/python3.10/dist-packages (from openai==0.28) (2.32.3)\n",
            "Requirement already satisfied: tqdm in /usr/local/lib/python3.10/dist-packages (from openai==0.28) (4.66.5)\n",
            "Requirement already satisfied: aiohttp in /usr/local/lib/python3.10/dist-packages (from openai==0.28) (3.10.5)\n",
            "Requirement already satisfied: charset-normalizer<4,>=2 in /usr/local/lib/python3.10/dist-packages (from requests>=2.20->openai==0.28) (3.3.2)\n",
            "Requirement already satisfied: idna<4,>=2.5 in /usr/local/lib/python3.10/dist-packages (from requests>=2.20->openai==0.28) (3.7)\n",
            "Requirement already satisfied: urllib3<3,>=1.21.1 in /usr/local/lib/python3.10/dist-packages (from requests>=2.20->openai==0.28) (2.0.7)\n",
            "Requirement already satisfied: certifi>=2017.4.17 in /usr/local/lib/python3.10/dist-packages (from requests>=2.20->openai==0.28) (2024.7.4)\n",
            "Requirement already satisfied: aiohappyeyeballs>=2.3.0 in /usr/local/lib/python3.10/dist-packages (from aiohttp->openai==0.28) (2.4.0)\n",
            "Requirement already satisfied: aiosignal>=1.1.2 in /usr/local/lib/python3.10/dist-packages (from aiohttp->openai==0.28) (1.3.1)\n",
            "Requirement already satisfied: attrs>=17.3.0 in /usr/local/lib/python3.10/dist-packages (from aiohttp->openai==0.28) (24.2.0)\n",
            "Requirement already satisfied: frozenlist>=1.1.1 in /usr/local/lib/python3.10/dist-packages (from aiohttp->openai==0.28) (1.4.1)\n",
            "Requirement already satisfied: multidict<7.0,>=4.5 in /usr/local/lib/python3.10/dist-packages (from aiohttp->openai==0.28) (6.0.5)\n",
            "Requirement already satisfied: yarl<2.0,>=1.0 in /usr/local/lib/python3.10/dist-packages (from aiohttp->openai==0.28) (1.9.4)\n",
            "Requirement already satisfied: async-timeout<5.0,>=4.0 in /usr/local/lib/python3.10/dist-packages (from aiohttp->openai==0.28) (4.0.3)\n",
            "Downloading openai-0.28.0-py3-none-any.whl (76 kB)\n",
            "\u001b[2K   \u001b[90m━━━━━━━━━━━━━━━━━━━━━━━━━━━━━━━━━━━━━━━━\u001b[0m \u001b[32m76.5/76.5 kB\u001b[0m \u001b[31m2.2 MB/s\u001b[0m eta \u001b[36m0:00:00\u001b[0m\n",
            "\u001b[?25hInstalling collected packages: openai\n",
            "Successfully installed openai-0.28.0\n",
            "Requirement already satisfied: requests in /usr/local/lib/python3.10/dist-packages (2.32.3)\n",
            "Requirement already satisfied: charset-normalizer<4,>=2 in /usr/local/lib/python3.10/dist-packages (from requests) (3.3.2)\n",
            "Requirement already satisfied: idna<4,>=2.5 in /usr/local/lib/python3.10/dist-packages (from requests) (3.7)\n",
            "Requirement already satisfied: urllib3<3,>=1.21.1 in /usr/local/lib/python3.10/dist-packages (from requests) (2.0.7)\n",
            "Requirement already satisfied: certifi>=2017.4.17 in /usr/local/lib/python3.10/dist-packages (from requests) (2024.7.4)\n"
          ]
        }
      ],
      "source": [
        "!pip install -U -q google-generativeai\n",
        "!pip install openai==0.28\n",
        "!pip install requests"
      ]
    },
    {
      "cell_type": "code",
      "execution_count": null,
      "metadata": {
        "id": "5DBUJjj1Tq0q"
      },
      "outputs": [],
      "source": []
    },
    {
      "cell_type": "code",
      "execution_count": null,
      "metadata": {
        "id": "T1M1kxOX62OP"
      },
      "outputs": [],
      "source": [
        "import google.generativeai as genai\n",
        "import openai\n",
        "import requests\n",
        "import os\n",
        "from io import BytesIO\n",
        "from PIL import Image"
      ]
    },
    {
      "cell_type": "code",
      "execution_count": 36,
      "metadata": {
        "id": "PBHg19wnw7lT"
      },
      "outputs": [],
      "source": [
        "openai.api_key = \"\""
      ]
    },
    {
      "cell_type": "code",
      "execution_count": null,
      "metadata": {
        "id": "QM8_vf9q9Scr"
      },
      "outputs": [],
      "source": [
        "# Used to securely store your API key\n",
        "from google.colab import userdata\n",
        "GOOGLE_API_KEY=userdata.get('Generative-Language-Client')\n",
        "genai.configure(api_key=GOOGLE_API_KEY)"
      ]
    },
    {
      "cell_type": "code",
      "execution_count": null,
      "metadata": {
        "id": "-tQkQIjyBa-G"
      },
      "outputs": [],
      "source": [
        "# Create the model\n",
        "generation_config = {\n",
        "  \"temperature\": 1,\n",
        "  \"top_p\": 0.95,\n",
        "  \"top_k\": 64,\n",
        "  \"max_output_tokens\": 500,\n",
        "  \"response_mime_type\": \"text/plain\",\n",
        "}\n",
        "\n",
        "model = genai.GenerativeModel(\n",
        "  model_name=\"gemini-1.5-flash\",\n",
        "  generation_config=generation_config,\n",
        "  # safety_settings = Adjust safety settings\n",
        "  # See https://ai.google.dev/gemini-api/docs/safety-settings\n",
        "  system_instruction = \"Hola, soy Yanina, la nutricionista del hospital. Estoy aquí para brindarte consejos personalizados sobre nutrición y ayudarte a mejorar tu salud a través de una alimentación adecuada. Mi enfoque es exclusivamente en temas de nutrición, así que si tienes alguna duda o necesitas orientación en este ámbito, estaré encantada de ayudarte.\",\n",
        ")\n",
        "\n",
        "\n"
      ]
    },
    {
      "cell_type": "code",
      "execution_count": null,
      "metadata": {
        "id": "rFFeH1A-Icmd"
      },
      "outputs": [],
      "source": [
        "history_chat = []"
      ]
    },
    {
      "cell_type": "code",
      "execution_count": null,
      "metadata": {
        "id": "n2UMuVf6GadS"
      },
      "outputs": [],
      "source": [
        "historial = []"
      ]
    },
    {
      "cell_type": "code",
      "execution_count": null,
      "metadata": {
        "id": "LG43AG_mBgH1"
      },
      "outputs": [],
      "source": [
        "def chat():\n",
        "    chat_session = model.start_chat(history=history_chat)\n",
        "\n",
        "    print(\"Soy Yanina, la nutricionista. Pídeme consejos de nutrición. Escribe 'salir' para terminar.\")\n",
        "\n",
        "    while True:\n",
        "        user_message = input(\"Tú: \")\n",
        "\n",
        "        if user_message.lower() == \"salir\":\n",
        "            break\n",
        "\n",
        "        response = chat_session.send_message(user_message)\n",
        "        print(\"Yanina:\", response.text)\n",
        "\n",
        "        history_chat.append({'role': 'user', 'parts': [user_message]})\n",
        "        history_chat.append({'role': 'model', 'parts': [response.text]})\n",
        "\n",
        "        if len(history_chat) == 3:\n",
        "            generate_image = input(\"¿Generar una imagen? (sí/no): \").strip().lower()\n",
        "\n",
        "            if generate_image == \"si\" or generate_image == \"si\":\n",
        "                image_url = generate_image_with_openai(user_message)\n",
        "\n",
        "                print(f\"image_url: {image_url}\")\n",
        "                history_chat.append({'role': 'model', 'parts': [f\"URL de la imagen: {image_url}\"]})\n",
        "\n",
        "\n",
        "\n",
        "\n"
      ]
    },
    {
      "cell_type": "code",
      "execution_count": null,
      "metadata": {
        "id": "Y8fS7Irzv3nv"
      },
      "outputs": [],
      "source": [
        "def generate_image_with_openai(prompt):\n",
        "\n",
        "    image_response = openai.Image.create(\n",
        "        prompt=prompt,\n",
        "        n=1,\n",
        "        size=\"1024x1024\"\n",
        "    )\n",
        "\n",
        "\n",
        "    response = image_response['data'][0]['url']\n",
        "    return response"
      ]
    },
    {
      "cell_type": "code",
      "execution_count": null,
      "metadata": {
        "colab": {
          "base_uri": "https://localhost:8080/"
        },
        "id": "QwSYVhsZwEWw",
        "outputId": "8815deca-2973-457c-85f8-e89570089da4"
      },
      "outputs": [
        {
          "output_type": "stream",
          "name": "stdout",
          "text": [
            "La imagen ha sido descargada y almacenada correctamente en: ./generated_images/ShvnMZzNYMZxBAwhdLqINNCDjDJbALE%3D.png\n",
            "Prompt utilizado: Tu prompt aquí\n"
          ]
        }
      ],
      "source": [
        "def generate_image_with_openai(prompt):\n",
        "    try:\n",
        "        response = openai.Image.create(prompt=prompt, n=1, size=\"1024x1024\")\n",
        "        return response['data'][0]['url']\n",
        "    except Exception as e:\n",
        "        print(f\"Error al generar la imagen: {e}\")\n",
        "        return None\n",
        "\n",
        "def save_and_display_image(image_url, prompt):\n",
        "    try:\n",
        "        response = requests.get(image_url)\n",
        "\n",
        "        if response.status_code == 200:\n",
        "            filename = os.path.basename(image_url).split('.')[0] + \".png\"\n",
        "            directory = \"./generated_images/\"\n",
        "\n",
        "            if not os.path.exists(directory):\n",
        "                os.makedirs(directory)\n",
        "\n",
        "            filepath = os.path.join(directory, filename)\n",
        "\n",
        "            with open(filepath, 'wb') as f:\n",
        "                f.write(response.content)\n",
        "\n",
        "            print(\"La imagen ha sido descargada y almacenada correctamente en:\", filepath)\n",
        "\n",
        "            img = Image.open(filepath)\n",
        "            img.show()\n",
        "            print(f\"Prompt utilizado: {prompt}\")\n",
        "\n",
        "        else:\n",
        "            print(\"Hubo un error al descargar la imagen.\")\n",
        "\n",
        "    except Exception as e:\n",
        "        print(f\"Error al guardar o mostrar la imagen: {e}\")\n",
        "\n",
        "response_of_function_gemini = \"Tu prompt aquí\"\n",
        "image_url = generate_image_with_openai(response_of_function_gemini)\n",
        "\n",
        "if image_url:\n",
        "    save_and_display_image(image_url, response_of_function_gemini)"
      ]
    },
    {
      "cell_type": "code",
      "execution_count": null,
      "metadata": {
        "colab": {
          "base_uri": "https://localhost:8080/",
          "height": 1000
        },
        "id": "7QibOm-RIgjV",
        "outputId": "3df054df-e786-40d0-a7ea-2bb056fc2734"
      },
      "outputs": [
        {
          "name": "stdout",
          "output_type": "stream",
          "text": [
            "Soy Yanina, la nutricionista. Pídeme consejos de nutrición. Escribe 'salir' para terminar.\n",
            "Tú: hola\n",
            "Yanina: ¡Hola! 👋 ¿Cómo estás? 😊  ¿Hay algo en lo que pueda ayudarte hoy? \n",
            "\n",
            "Tú: si quiero entreenar y quiero ganar masa muscular\n",
            "Yanina: ¡Excelente! ¡Ganar masa muscular es un objetivo genial! 💪 Para ayudarte a alcanzarlo, necesito saber un poco más sobre ti:\n",
            "\n",
            "* **¿Cuál es tu nivel de experiencia con el entrenamiento?** ¿Eres principiante, intermedio o avanzado?\n",
            "* **¿Qué tipo de entrenamiento te gusta o te gustaría probar?** ¿Pesas, calistenia, entrenamiento funcional, etc.?\n",
            "* **¿Tienes alguna lesión o limitación física que deba considerar?** \n",
            "\n",
            "Con esta información, puedo darte consejos más específicos sobre cómo entrenar para ganar masa muscular de forma segura y efectiva.  \n",
            "\n",
            "Por ahora, te puedo decir que para ganar masa muscular necesitas:\n",
            "\n",
            "1. **Un programa de entrenamiento adecuado:**  Elige un programa de entrenamiento que sea desafiante para ti y que se centre en ejercicios compuestos que trabajen varios grupos musculares al mismo tiempo. \n",
            "2. **Una dieta adecuada:**  Asegúrate de consumir suficientes proteínas para ayudar a tus músculos a recuperarse y crecer. \n",
            "3. **Descanso suficiente:**  Tu cuerpo necesita tiempo para recuperarse del entrenamiento. Duerme al menos 7-8 horas por noche.\n",
            "\n",
            "¿Qué te parece? ¿Puedes contarme un poco más sobre tus objetivos de entrenamiento? 😄 \n",
            "\n",
            "Tú: peso 69 kg y mido 1.69\n",
            "Yanina: ¡Genial! Con esa información, puedo darte consejos aún más personalizados.\n",
            "\n",
            "Para empezar, es importante destacar que ganar masa muscular no se trata solo de levantar mucho peso. Se trata de entrenar de forma inteligente y constante para estimular el crecimiento muscular.\n",
            "\n",
            "**Aquí te dejo algunas ideas generales para empezar a entrenar y ganar masa muscular, teniendo en cuenta tu peso y altura:**\n",
            "\n",
            "**Programa de entrenamiento:**\n",
            "\n",
            "* **Elige ejercicios compuestos:**  Estos ejercicios trabajan varios grupos musculares al mismo tiempo. Algunos ejemplos son: sentadillas, press de banca, dominadas, remo con barra, peso muerto.\n",
            "* **Empieza con un programa de 3 días a la semana:**  Puedes entrenar diferentes grupos musculares cada día, como piernas, pecho y hombros, espalda y brazos.\n",
            "* **Haz 3-4 series de 8-12 repeticiones por ejercicio.**  \n",
            "* **Concéntrate en la técnica:**  Es más importante hacer los ejercicios correctamente que levantar mucho peso.\n",
            "* **Aumenta gradualmente el peso o la dificultad de los ejercicios:**  Cuando te sientas cómodo con el peso que estás levantando, puedes aumentar gradualmente la carga. \n",
            "\n",
            "**Dieta:**\n",
            "\n",
            "* **Consume suficiente proteína:**  Tu objetivo debe ser consumir entre 1.6 y 2.2 gramos de proteína por kilogramo de peso corporal al día. \n",
            "* **Elige alimentos ricos en proteínas:**  Carne magra, pescado, huevos, legumbres, productos lácteos.\n",
            "* **Hidrátate bien:**  Bebe mucha agua a lo largo del día.\n",
            "\n",
            "**Descanso:**\n",
            "\n",
            "* **Duerme al menos 7-8 horas por noche:**  El descanso es crucial para la recuperación muscular.\n",
            "* **Toma días de descanso entre sesiones de entrenamiento:**  Permite que tus músculos se recuperen.\n",
            "\n",
            "**Recuerda:**\n",
            "\n",
            "* Es importante que comiences con un programa de entrenamiento que sea desafiante para ti, pero no demasiado intenso.  \n",
            "* Presta atención a tu cuerpo y a las señales que te da.  \n",
            "* Si tienes alguna duda o lesión, consulta con un entrenador personal o un profesional de la salud. \n",
            "\n",
            "¿Te gustaría que te diera ejemplos concretos de rutinas de entrenamiento para empezar?  😊\n",
            "\n",
            "\n",
            "\n",
            "Tú: si\n",
            "Yanina: ¡Claro que sí! Aquí te dejo un ejemplo de rutina de entrenamiento para ganar masa muscular,  teniendo en cuenta que eres principiante y quieres entrenar 3 días a la semana:\n",
            "\n",
            "**Día 1: Piernas y Glúteos**\n",
            "\n",
            "* Sentadillas: 3 series de 8-12 repeticiones. \n",
            "* Peso muerto rumano: 3 series de 8-12 repeticiones. \n",
            "* Zancadas: 3 series de 10-12 repeticiones por pierna. \n",
            "* Elevaciones de pantorrillas: 3 series de 15-20 repeticiones. \n",
            "\n",
            "**Día 2: Pecho y Hombros**\n",
            "\n",
            "* Press de banca: 3 series de 8-12 repeticiones. \n",
            "* Press de hombros: 3 series de 8-12 repeticiones. \n",
            "* Aperturas con mancuernas: 3 series de 10-12 repeticiones. \n",
            "* Flexiones: 3 series de 10-12 repeticiones. \n",
            "\n",
            "**Día 3: Espalda y Brazos**\n",
            "\n",
            "* Remo con barra: 3 series de 8-12 repeticiones. \n",
            "* Dominadas: 3 series de máximo de repeticiones (si no puedes hacer dominadas, prueba con dominadas asistidas). \n",
            "* Curl de bíceps: 3 series de 10-12 repeticiones.\n",
            "* Extensiones de tríceps: 3 series de 10-12 repeticiones. \n",
            "\n",
            "**Consejos:**\n",
            "\n",
            "* **Comienza con un peso ligero:**  Asegúrate de que puedas hacer todas las repeticiones con una buena técnica. \n",
            "* **Aumenta el peso gradualmente:**  Cuando te sientas cómodo con el peso que estás levantando, puedes aumentarlo. \n",
            "* **Descansa al menos 60 segundos entre series:**  Esto te permitirá recuperarte para la siguiente serie.\n",
            "* **Calienta antes de cada entrenamiento:**  Haz 5-10 minutos de cardio ligero y algunos ejercicios de movilidad.\n",
            "* **Estira después de cada entrenamiento:**  Esto te ayudará a prevenir lesiones y a mejorar la flexibilidad.\n",
            "\n",
            "**Recuerda:** \n",
            "\n",
            "* Esta es solo una sugerencia de rutina. Puedes ajustarla según tus preferencias y necesidades.\n",
            "* Es importante que consultes con un profesional de\n",
            "Tú: a bueno\n",
            "Yanina: ¡Me alegra que te haya gustado la rutina! 😄 \n",
            "\n",
            "¿Tienes alguna duda sobre los ejercicios o quieres que te explique algo en específico? \n",
            "\n",
            "También puedo darte más ideas sobre ejercicios para cada grupo muscular si necesitas alternativas. \n",
            "\n",
            "¡Estoy aquí para ayudarte a que tu entrenamiento sea exitoso! 💪 \n",
            "\n",
            "\n",
            "\n",
            "Tú: sabes como cambiar una llanta al auto\n",
            "Yanina: ¡Claro que sí! Cambiar una llanta es una tarea que puede parecer complicada, pero con los pasos correctos, es bastante sencillo. Aquí te dejo una guía paso a paso:\n",
            "\n",
            "**Materiales:**\n",
            "\n",
            "* Gato hidráulico\n",
            "* Llave de tuercas\n",
            "* Llanta de repuesto\n",
            "* Cuñas\n",
            "* Guantes (opcional)\n",
            "\n",
            "**Pasos:**\n",
            "\n",
            "1. **Encuentra un lugar seguro:**  Busca un lugar plano y nivelado para estacionar tu auto. Asegúrate de que el auto esté en una superficie firme y no en una pendiente.\n",
            "2. **Activa las luces de emergencia:**  Esto alertará a otros conductores de que estás detenido a un lado del camino.\n",
            "3. **Activa el freno de mano:**  Asegúrate de que el freno de mano esté puesto para evitar que el auto se mueva. \n",
            "4. **Coloca las cuñas:**  Coloca las cuñas detrás de las llantas del lado opuesto a la que vas a cambiar para evitar que el auto se mueva.\n",
            "5. **Afloja las tuercas:**  Utiliza la llave de tuercas para aflojar las tuercas de la llanta que vas a cambiar. No las quites completamente, solo aflójalas un poco.\n",
            "6. **Levanta el auto con el gato:**  Coloca el gato hidráulico en el punto de apoyo indicado para el modelo de tu auto.  Estos puntos suelen estar marcados en el marco del vehículo. Levanta el auto hasta que la llanta esté lo suficientemente alta para que puedas retirar la llanta pinchada.\n",
            "7. **Retira las tuercas:**  Retira las tuercas restantes de la llanta pinchada.\n",
            "8. **Retira la llanta:**  Retira la llanta pinchada del auto. \n",
            "9. **Coloca la llanta de repuesto:**  Coloca la llanta de repuesto en el buje del auto. Asegúrate de que la llanta esté bien centrada.\n",
            "10. **Asegura la llanta:**  Asegura la llanta de repuesto con las tuercas. \n",
            "11. **Baja el auto:**  Baja el auto con el gato hidráulico hasta que la llanta de repuesto esté en contacto con el suelo.\n",
            "12. **Aprieta las tuercas:**  Aprieta las tuercas con la llave de tuercas\n",
            "Tú: salir\n"
          ]
        }
      ],
      "source": [
        "chat()"
      ]
    }
  ],
  "metadata": {
    "colab": {
      "provenance": [],
      "authorship_tag": "ABX9TyMUOauiNnph6kPJPpuwh7fz",
      "include_colab_link": true
    },
    "kernelspec": {
      "display_name": "Python 3",
      "name": "python3"
    },
    "language_info": {
      "name": "python"
    }
  },
  "nbformat": 4,
  "nbformat_minor": 0
}